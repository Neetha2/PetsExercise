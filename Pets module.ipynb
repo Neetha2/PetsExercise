{
 "cells": [
  {
   "cell_type": "code",
   "execution_count": 11,
   "id": "f35f35d4",
   "metadata": {},
   "outputs": [
    {
     "name": "stdout",
     "output_type": "stream",
     "text": [
      "Overwriting pets.py\n"
     ]
    }
   ],
   "source": [
    "%%file pets.py\n",
    "class Pet:\n",
    "    def __init__(self,name,species,age):\n",
    "        self.name = name\n",
    "        self.species = species\n",
    "        self.age = age \n",
    "    \n",
    "    def display(self):\n",
    "        print(f\"{self.name} is a {self.species}, {self.age}\")"
   ]
  },
  {
   "cell_type": "code",
   "execution_count": null,
   "id": "53d851cb",
   "metadata": {},
   "outputs": [],
   "source": []
  }
 ],
 "metadata": {
  "kernelspec": {
   "display_name": "Python 3 (ipykernel)",
   "language": "python",
   "name": "python3"
  },
  "language_info": {
   "codemirror_mode": {
    "name": "ipython",
    "version": 3
   },
   "file_extension": ".py",
   "mimetype": "text/x-python",
   "name": "python",
   "nbconvert_exporter": "python",
   "pygments_lexer": "ipython3",
   "version": "3.11.5"
  }
 },
 "nbformat": 4,
 "nbformat_minor": 5
}
